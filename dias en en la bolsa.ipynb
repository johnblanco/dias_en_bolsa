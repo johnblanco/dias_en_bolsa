{
 "cells": [
  {
   "cell_type": "markdown",
   "metadata": {},
   "source": [
    "# Dias en la bolsa\n",
    "\n",
    "Calculo de cuantos dias tengo que tener el dinero en la bolsa para obtener un retorno esperado con diferentes acciones.\n",
    "\n",
    "Datos extraidos de [nasdaq](https://www.nasdaq.com/market-activity/funds-and-etfs/spy/historical)"
   ]
  },
  {
   "cell_type": "code",
   "execution_count": 166,
   "metadata": {
    "ExecuteTime": {
     "end_time": "2019-11-17T16:10:02.432513Z",
     "start_time": "2019-11-17T16:10:02.423804Z"
    }
   },
   "outputs": [],
   "source": [
    "import pandas as pd\n",
    "import matplotlib.pyplot as plt\n",
    "%matplotlib inline"
   ]
  },
  {
   "cell_type": "code",
   "execution_count": 167,
   "metadata": {
    "ExecuteTime": {
     "end_time": "2019-11-17T16:10:02.442669Z",
     "start_time": "2019-11-17T16:10:02.435934Z"
    }
   },
   "outputs": [],
   "source": [
    "plt.rcParams['figure.figsize'] = [12, 5]"
   ]
  },
  {
   "cell_type": "code",
   "execution_count": 168,
   "metadata": {
    "ExecuteTime": {
     "end_time": "2019-11-17T16:10:02.454309Z",
     "start_time": "2019-11-17T16:10:02.446268Z"
    },
    "code_folding": []
   },
   "outputs": [],
   "source": [
    "def cant_days(stock, original_df, from_date, expected_return_rate):\n",
    "    df = original_df[original_df.date >= from_date]\n",
    "    dates = df.date.values\n",
    "    prices = df.price.values\n",
    "    original = df[df.date == from_date].price.values[0]\n",
    "    expected = original*expected_return_rate\n",
    "\n",
    "    for i in range(len(dates)):\n",
    "        new_price = prices[i]\n",
    "        new_date = dates[i]\n",
    "        if new_price >= expected:\n",
    "            return i\n",
    "    return -1"
   ]
  },
  {
   "cell_type": "code",
   "execution_count": 169,
   "metadata": {
    "ExecuteTime": {
     "end_time": "2019-11-17T16:10:02.463260Z",
     "start_time": "2019-11-17T16:10:02.456967Z"
    }
   },
   "outputs": [],
   "source": [
    "expected_return_rate = 1.12\n",
    "stocks = ['SPY','TECL', 'AAPL', 'TSLA', 'GOOGL', 'NFLX'] \n",
    "cant_failure_days = []\n",
    "cant_median_days = []"
   ]
  },
  {
   "cell_type": "code",
   "execution_count": 170,
   "metadata": {
    "ExecuteTime": {
     "end_time": "2019-11-17T16:10:10.242380Z",
     "start_time": "2019-11-17T16:10:02.470512Z"
    }
   },
   "outputs": [],
   "source": [
    "for i in range(len(stocks)):\n",
    "    stock = stocks[i]\n",
    "    df = pd.read_csv('HistoricalQuotes-{}.csv'.format(stock))\n",
    "    df.drop(columns=[' Volume', ' Open', ' High', ' Low'],inplace=True)\n",
    "    df.columns = ['date','price']\n",
    "    df['date'] = pd.to_datetime(df['date'])\n",
    "    df = df.sort_values(by='date')\n",
    "    df['days_to_return_rate'] = df.apply(lambda row: cant_days(stock,df,row.date,expected_return_rate),axis=1)\n",
    "\n",
    "    days_failed = df[(df.days_to_return_rate==-1) & (df.date < '2019-11-01')]#quito los dias que dio -1 y que no son de noviembre 2019, estos son los dias en los que si invertia, hasta el dia de hoy no hubieras logrado la meta\n",
    "    cant_failure_days.append(len(days_failed))\n",
    "    df = df[df.days_to_return_rate!=-1]\n",
    "    median = df.days_to_return_rate.median()\n",
    "    cant_median_days.append(median)"
   ]
  },
  {
   "cell_type": "markdown",
   "metadata": {},
   "source": [
    "quito los dias que dio -1 y que no son de noviembre 2019, estos son los dias en los que si invertia, hasta el dia de hoy no hubieras logrado la meta"
   ]
  },
  {
   "cell_type": "code",
   "execution_count": 171,
   "metadata": {
    "ExecuteTime": {
     "end_time": "2019-11-17T16:10:10.263929Z",
     "start_time": "2019-11-17T16:10:10.244749Z"
    }
   },
   "outputs": [
    {
     "data": {
      "text/html": [
       "<div>\n",
       "<style scoped>\n",
       "    .dataframe tbody tr th:only-of-type {\n",
       "        vertical-align: middle;\n",
       "    }\n",
       "\n",
       "    .dataframe tbody tr th {\n",
       "        vertical-align: top;\n",
       "    }\n",
       "\n",
       "    .dataframe thead th {\n",
       "        text-align: right;\n",
       "    }\n",
       "</style>\n",
       "<table border=\"1\" class=\"dataframe\">\n",
       "  <thead>\n",
       "    <tr style=\"text-align: right;\">\n",
       "      <th></th>\n",
       "      <th>stock</th>\n",
       "      <th>media de dias</th>\n",
       "      <th>cant dias fallidos</th>\n",
       "    </tr>\n",
       "  </thead>\n",
       "  <tbody>\n",
       "    <tr>\n",
       "      <td>0</td>\n",
       "      <td>SPY</td>\n",
       "      <td>204.0</td>\n",
       "      <td>257</td>\n",
       "    </tr>\n",
       "    <tr>\n",
       "      <td>1</td>\n",
       "      <td>TECL</td>\n",
       "      <td>33.0</td>\n",
       "      <td>2</td>\n",
       "    </tr>\n",
       "    <tr>\n",
       "      <td>2</td>\n",
       "      <td>AAPL</td>\n",
       "      <td>76.0</td>\n",
       "      <td>9</td>\n",
       "    </tr>\n",
       "    <tr>\n",
       "      <td>3</td>\n",
       "      <td>TSLA</td>\n",
       "      <td>40.0</td>\n",
       "      <td>178</td>\n",
       "    </tr>\n",
       "    <tr>\n",
       "      <td>4</td>\n",
       "      <td>GOOGL</td>\n",
       "      <td>78.0</td>\n",
       "      <td>127</td>\n",
       "    </tr>\n",
       "    <tr>\n",
       "      <td>5</td>\n",
       "      <td>NFLX</td>\n",
       "      <td>31.0</td>\n",
       "      <td>260</td>\n",
       "    </tr>\n",
       "  </tbody>\n",
       "</table>\n",
       "</div>"
      ],
      "text/plain": [
       "   stock  media de dias  cant dias fallidos\n",
       "0    SPY          204.0                 257\n",
       "1   TECL           33.0                   2\n",
       "2   AAPL           76.0                   9\n",
       "3   TSLA           40.0                 178\n",
       "4  GOOGL           78.0                 127\n",
       "5   NFLX           31.0                 260"
      ]
     },
     "execution_count": 171,
     "metadata": {},
     "output_type": "execute_result"
    }
   ],
   "source": [
    "data = {'stock': stocks, 'media de dias': cant_median_days, 'cant dias fallidos':cant_failure_days}\n",
    "pd.DataFrame.from_dict(data)"
   ]
  }
 ],
 "metadata": {
  "hide_input": false,
  "kernelspec": {
   "display_name": "Python 3",
   "language": "python",
   "name": "python3"
  },
  "language_info": {
   "codemirror_mode": {
    "name": "ipython",
    "version": 3
   },
   "file_extension": ".py",
   "mimetype": "text/x-python",
   "name": "python",
   "nbconvert_exporter": "python",
   "pygments_lexer": "ipython3",
   "version": "3.7.2"
  }
 },
 "nbformat": 4,
 "nbformat_minor": 2
}
